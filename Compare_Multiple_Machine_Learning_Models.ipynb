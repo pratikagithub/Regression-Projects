{
  "nbformat": 4,
  "nbformat_minor": 0,
  "metadata": {
    "colab": {
      "provenance": [],
      "authorship_tag": "ABX9TyPjVrSmtJ8LJJ2lRBs1hlQD",
      "include_colab_link": true
    },
    "kernelspec": {
      "name": "python3",
      "display_name": "Python 3"
    },
    "language_info": {
      "name": "python"
    }
  },
  "cells": [
    {
      "cell_type": "markdown",
      "metadata": {
        "id": "view-in-github",
        "colab_type": "text"
      },
      "source": [
        "<a href=\"https://colab.research.google.com/github/pratikagithub/Regression-Projects/blob/main/Compare_Multiple_Machine_Learning_Models.ipynb\" target=\"_parent\"><img src=\"https://colab.research.google.com/assets/colab-badge.svg\" alt=\"Open In Colab\"/></a>"
      ]
    },
    {
      "cell_type": "markdown",
      "source": [
        "The comparison of multiple Machine Learning models refers to training, evaluating, and analyzing the performance of different algorithms on the same dataset to identify which model performs best for a specific predictive task.\n",
        "\n",
        "**Compare Multiple Machine Learning Models: Process We Can Follow**\n",
        "\n",
        "By comparing multiple models, we aim to select the most effective algorithm that offers the optimal balance of accuracy, complexity, and performance for their specific problem. Below is the process we can follow for the task of comparing multiple Machine Learning models:\n",
        "\n",
        "Address missing values, remove duplicates, and correct errors in the dataset to ensure the quality of data fed into the models.\n",
        "\n",
        "Divide the dataset into training and testing sets, typically using a 70-30% or 80-20% split.\n",
        "\n",
        "Select a diverse set of models for comparison. It can include simple linear models, tree-based models, ensemble methods, and more advanced algorithms, depending on the problem’s complexity and data characteristics.\n",
        "\n",
        "Fit each selected model to the training data. It involves adjusting the model to learn from the features and the target variable in the training set.\n",
        "\n",
        "Use a set of metrics to evaluate each model’s performance on the test set.\n",
        "Compare the models based on the evaluation metrics, considering both their performance and computational efficiency."
      ],
      "metadata": {
        "id": "6ZeBo9sEp4aI"
      }
    },
    {
      "cell_type": "code",
      "execution_count": 1,
      "metadata": {
        "colab": {
          "base_uri": "https://localhost:8080/",
          "height": 420
        },
        "id": "yDd4oGaJpxvJ",
        "outputId": "99504ebc-0476-4eb0-8db5-aa53730db9de"
      },
      "outputs": [
        {
          "output_type": "display_data",
          "data": {
            "text/plain": [
              "<IPython.core.display.HTML object>"
            ],
            "text/html": [
              "\n",
              "     <input type=\"file\" id=\"files-be82e2a8-c487-4345-bf5f-39ed3ffbda6e\" name=\"files[]\" multiple disabled\n",
              "        style=\"border:none\" />\n",
              "     <output id=\"result-be82e2a8-c487-4345-bf5f-39ed3ffbda6e\">\n",
              "      Upload widget is only available when the cell has been executed in the\n",
              "      current browser session. Please rerun this cell to enable.\n",
              "      </output>\n",
              "      <script>// Copyright 2017 Google LLC\n",
              "//\n",
              "// Licensed under the Apache License, Version 2.0 (the \"License\");\n",
              "// you may not use this file except in compliance with the License.\n",
              "// You may obtain a copy of the License at\n",
              "//\n",
              "//      http://www.apache.org/licenses/LICENSE-2.0\n",
              "//\n",
              "// Unless required by applicable law or agreed to in writing, software\n",
              "// distributed under the License is distributed on an \"AS IS\" BASIS,\n",
              "// WITHOUT WARRANTIES OR CONDITIONS OF ANY KIND, either express or implied.\n",
              "// See the License for the specific language governing permissions and\n",
              "// limitations under the License.\n",
              "\n",
              "/**\n",
              " * @fileoverview Helpers for google.colab Python module.\n",
              " */\n",
              "(function(scope) {\n",
              "function span(text, styleAttributes = {}) {\n",
              "  const element = document.createElement('span');\n",
              "  element.textContent = text;\n",
              "  for (const key of Object.keys(styleAttributes)) {\n",
              "    element.style[key] = styleAttributes[key];\n",
              "  }\n",
              "  return element;\n",
              "}\n",
              "\n",
              "// Max number of bytes which will be uploaded at a time.\n",
              "const MAX_PAYLOAD_SIZE = 100 * 1024;\n",
              "\n",
              "function _uploadFiles(inputId, outputId) {\n",
              "  const steps = uploadFilesStep(inputId, outputId);\n",
              "  const outputElement = document.getElementById(outputId);\n",
              "  // Cache steps on the outputElement to make it available for the next call\n",
              "  // to uploadFilesContinue from Python.\n",
              "  outputElement.steps = steps;\n",
              "\n",
              "  return _uploadFilesContinue(outputId);\n",
              "}\n",
              "\n",
              "// This is roughly an async generator (not supported in the browser yet),\n",
              "// where there are multiple asynchronous steps and the Python side is going\n",
              "// to poll for completion of each step.\n",
              "// This uses a Promise to block the python side on completion of each step,\n",
              "// then passes the result of the previous step as the input to the next step.\n",
              "function _uploadFilesContinue(outputId) {\n",
              "  const outputElement = document.getElementById(outputId);\n",
              "  const steps = outputElement.steps;\n",
              "\n",
              "  const next = steps.next(outputElement.lastPromiseValue);\n",
              "  return Promise.resolve(next.value.promise).then((value) => {\n",
              "    // Cache the last promise value to make it available to the next\n",
              "    // step of the generator.\n",
              "    outputElement.lastPromiseValue = value;\n",
              "    return next.value.response;\n",
              "  });\n",
              "}\n",
              "\n",
              "/**\n",
              " * Generator function which is called between each async step of the upload\n",
              " * process.\n",
              " * @param {string} inputId Element ID of the input file picker element.\n",
              " * @param {string} outputId Element ID of the output display.\n",
              " * @return {!Iterable<!Object>} Iterable of next steps.\n",
              " */\n",
              "function* uploadFilesStep(inputId, outputId) {\n",
              "  const inputElement = document.getElementById(inputId);\n",
              "  inputElement.disabled = false;\n",
              "\n",
              "  const outputElement = document.getElementById(outputId);\n",
              "  outputElement.innerHTML = '';\n",
              "\n",
              "  const pickedPromise = new Promise((resolve) => {\n",
              "    inputElement.addEventListener('change', (e) => {\n",
              "      resolve(e.target.files);\n",
              "    });\n",
              "  });\n",
              "\n",
              "  const cancel = document.createElement('button');\n",
              "  inputElement.parentElement.appendChild(cancel);\n",
              "  cancel.textContent = 'Cancel upload';\n",
              "  const cancelPromise = new Promise((resolve) => {\n",
              "    cancel.onclick = () => {\n",
              "      resolve(null);\n",
              "    };\n",
              "  });\n",
              "\n",
              "  // Wait for the user to pick the files.\n",
              "  const files = yield {\n",
              "    promise: Promise.race([pickedPromise, cancelPromise]),\n",
              "    response: {\n",
              "      action: 'starting',\n",
              "    }\n",
              "  };\n",
              "\n",
              "  cancel.remove();\n",
              "\n",
              "  // Disable the input element since further picks are not allowed.\n",
              "  inputElement.disabled = true;\n",
              "\n",
              "  if (!files) {\n",
              "    return {\n",
              "      response: {\n",
              "        action: 'complete',\n",
              "      }\n",
              "    };\n",
              "  }\n",
              "\n",
              "  for (const file of files) {\n",
              "    const li = document.createElement('li');\n",
              "    li.append(span(file.name, {fontWeight: 'bold'}));\n",
              "    li.append(span(\n",
              "        `(${file.type || 'n/a'}) - ${file.size} bytes, ` +\n",
              "        `last modified: ${\n",
              "            file.lastModifiedDate ? file.lastModifiedDate.toLocaleDateString() :\n",
              "                                    'n/a'} - `));\n",
              "    const percent = span('0% done');\n",
              "    li.appendChild(percent);\n",
              "\n",
              "    outputElement.appendChild(li);\n",
              "\n",
              "    const fileDataPromise = new Promise((resolve) => {\n",
              "      const reader = new FileReader();\n",
              "      reader.onload = (e) => {\n",
              "        resolve(e.target.result);\n",
              "      };\n",
              "      reader.readAsArrayBuffer(file);\n",
              "    });\n",
              "    // Wait for the data to be ready.\n",
              "    let fileData = yield {\n",
              "      promise: fileDataPromise,\n",
              "      response: {\n",
              "        action: 'continue',\n",
              "      }\n",
              "    };\n",
              "\n",
              "    // Use a chunked sending to avoid message size limits. See b/62115660.\n",
              "    let position = 0;\n",
              "    do {\n",
              "      const length = Math.min(fileData.byteLength - position, MAX_PAYLOAD_SIZE);\n",
              "      const chunk = new Uint8Array(fileData, position, length);\n",
              "      position += length;\n",
              "\n",
              "      const base64 = btoa(String.fromCharCode.apply(null, chunk));\n",
              "      yield {\n",
              "        response: {\n",
              "          action: 'append',\n",
              "          file: file.name,\n",
              "          data: base64,\n",
              "        },\n",
              "      };\n",
              "\n",
              "      let percentDone = fileData.byteLength === 0 ?\n",
              "          100 :\n",
              "          Math.round((position / fileData.byteLength) * 100);\n",
              "      percent.textContent = `${percentDone}% done`;\n",
              "\n",
              "    } while (position < fileData.byteLength);\n",
              "  }\n",
              "\n",
              "  // All done.\n",
              "  yield {\n",
              "    response: {\n",
              "      action: 'complete',\n",
              "    }\n",
              "  };\n",
              "}\n",
              "\n",
              "scope.google = scope.google || {};\n",
              "scope.google.colab = scope.google.colab || {};\n",
              "scope.google.colab._files = {\n",
              "  _uploadFiles,\n",
              "  _uploadFilesContinue,\n",
              "};\n",
              "})(self);\n",
              "</script> "
            ]
          },
          "metadata": {}
        },
        {
          "output_type": "stream",
          "name": "stdout",
          "text": [
            "Saving Real_Estate.csv to Real_Estate.csv\n",
            "             Transaction date  House age  Distance to the nearest MRT station  \\\n",
            "0  2012-09-02 16:42:30.519336       13.3                            4082.0150   \n",
            "1  2012-09-04 22:52:29.919544       35.5                             274.0144   \n",
            "2  2012-09-05 01:10:52.349449        1.1                            1978.6710   \n",
            "3  2012-09-05 13:26:01.189083       22.2                            1055.0670   \n",
            "4  2012-09-06 08:29:47.910523        8.5                             967.4000   \n",
            "\n",
            "   Number of convenience stores   Latitude   Longitude  \\\n",
            "0                             8  25.007059  121.561694   \n",
            "1                             2  25.012148  121.546990   \n",
            "2                            10  25.003850  121.528336   \n",
            "3                             5  24.962887  121.482178   \n",
            "4                             6  25.011037  121.479946   \n",
            "\n",
            "   House price of unit area  \n",
            "0                  6.488673  \n",
            "1                 24.970725  \n",
            "2                 26.694267  \n",
            "3                 38.091638  \n",
            "4                 21.654710  \n"
          ]
        }
      ],
      "source": [
        "import pandas as pd\n",
        "from google.colab import files\n",
        "uploaded = files.upload()\n",
        "data = pd.read_csv('Real_Estate.csv')\n",
        "\n",
        "# display the first few rows\n",
        "data_head = data.head()\n",
        "\n",
        "print(data_head)"
      ]
    },
    {
      "cell_type": "code",
      "source": [
        "print(data.info())"
      ],
      "metadata": {
        "colab": {
          "base_uri": "https://localhost:8080/"
        },
        "id": "5TeiPU2_sA5B",
        "outputId": "81dac634-05ab-476a-bf08-0d318ca580da"
      },
      "execution_count": 2,
      "outputs": [
        {
          "output_type": "stream",
          "name": "stdout",
          "text": [
            "<class 'pandas.core.frame.DataFrame'>\n",
            "RangeIndex: 414 entries, 0 to 413\n",
            "Data columns (total 7 columns):\n",
            " #   Column                               Non-Null Count  Dtype  \n",
            "---  ------                               --------------  -----  \n",
            " 0   Transaction date                     414 non-null    object \n",
            " 1   House age                            414 non-null    float64\n",
            " 2   Distance to the nearest MRT station  414 non-null    float64\n",
            " 3   Number of convenience stores         414 non-null    int64  \n",
            " 4   Latitude                             414 non-null    float64\n",
            " 5   Longitude                            414 non-null    float64\n",
            " 6   House price of unit area             414 non-null    float64\n",
            "dtypes: float64(5), int64(1), object(1)\n",
            "memory usage: 22.8+ KB\n",
            "None\n"
          ]
        }
      ]
    },
    {
      "cell_type": "markdown",
      "source": [
        "The dataset consists of 414 entries and 7 columns, with no missing values. Here’s a brief overview of the columns:\n",
        "\n",
        "Transaction date: The date of the house sale (object type, which suggests it might need conversion or extraction of useful features like year, month, etc.).\n",
        "\n",
        "House age: The age of the house in years (float).\n",
        "\n",
        "Distance to the nearest MRT station: The distance to the nearest mass rapid transit station in meters (float).\n",
        "\n",
        "Number of convenience stores: The number of convenience stores in the living circle on foot (integer).\n",
        "\n",
        "Latitude: The geographic coordinate that specifies the north-south position (float).\n",
        "\n",
        "Longitude: The geographic coordinate that specifies the east-west position (float).\n",
        "\n",
        "House price of unit area: Price of the house per unit area (float), which is likely our target variable for prediction.\n",
        "\n",
        "So, we are solving a regression problem here. In the next steps, we will preprocess the data and select regression models to find the best-performing model for our problem.\n",
        "\n",
        "**Data Preprocessing**\n",
        "\n",
        "Let’s start with the preprocessing steps. Below are the steps we will follow to preprocess our data:\n",
        "\n",
        "Since the transaction date is in a string format, we will convert it into a datetime object. We can then extract features such as the transaction year and month, which might be useful for the model.\n",
        "\n",
        "We’ll scale the continuous features to ensure they’re on a similar scale. It is particularly important for models like Support Vector Machines or K-nearest neighbours, which are sensitive to the scale of input features.\n",
        "\n",
        "We’ll split the dataset into a training set and a testing set. A common practice is to use 80% of the data for training and 20% for testing.\n",
        "Let’s implement these preprocessing steps:"
      ],
      "metadata": {
        "id": "EfTl-fTjr_HB"
      }
    },
    {
      "cell_type": "code",
      "source": [
        "from sklearn.model_selection import train_test_split\n",
        "from sklearn.preprocessing import StandardScaler\n",
        "import datetime\n",
        "\n",
        "# convert \"Transaction date\" to datetime and extract year and month\n",
        "data['Transaction date'] = pd.to_datetime(data['Transaction date'])\n",
        "data['Transaction year'] = data['Transaction date'].dt.year\n",
        "data['Transaction month'] = data['Transaction date'].dt.month\n",
        "\n",
        "# drop the original \"Transaction date\" as we've extracted relevant features\n",
        "data = data.drop(columns=['Transaction date'])\n",
        "\n",
        "# define features and target variable\n",
        "X = data.drop('House price of unit area', axis=1)\n",
        "y = data['House price of unit area']\n",
        "\n",
        "# split the data into training and testing sets\n",
        "X_train, X_test, y_train, y_test = train_test_split(X, y, test_size=0.2, random_state=42)\n",
        "\n",
        "# scale the features\n",
        "scaler = StandardScaler()\n",
        "X_train_scaled = scaler.fit_transform(X_train)\n",
        "X_test_scaled = scaler.transform(X_test)\n",
        "\n",
        "X_train_scaled.shape"
      ],
      "metadata": {
        "colab": {
          "base_uri": "https://localhost:8080/"
        },
        "id": "LdTKzDt5sSuW",
        "outputId": "6b85c4f2-7957-4639-f95e-46c782ca74c5"
      },
      "execution_count": 3,
      "outputs": [
        {
          "output_type": "execute_result",
          "data": {
            "text/plain": [
              "(331, 7)"
            ]
          },
          "metadata": {},
          "execution_count": 3
        }
      ]
    },
    {
      "cell_type": "code",
      "source": [
        "X_test_scaled.shape"
      ],
      "metadata": {
        "colab": {
          "base_uri": "https://localhost:8080/"
        },
        "id": "fFFmkMrHsVc0",
        "outputId": "a7b99f3a-c63e-4dda-9627-b77709adf726"
      },
      "execution_count": 4,
      "outputs": [
        {
          "output_type": "execute_result",
          "data": {
            "text/plain": [
              "(83, 7)"
            ]
          },
          "metadata": {},
          "execution_count": 4
        }
      ]
    },
    {
      "cell_type": "markdown",
      "source": [
        "Model Training and Comparison\n",
        "Now, we’ll proceed with training multiple models and comparing their performance. We’ll start with a few commonly used models for regression tasks:\n",
        "\n",
        "Linear Regression: A good baseline model for regression tasks.\n",
        "\n",
        "Decision Tree Regressor: To see how a simple tree-based model performs.\n",
        "\n",
        "Random Forest Regressor: An ensemble method to improve upon the decision tree’s performance.\n",
        "\n",
        "Gradient Boosting Regressor: Another powerful ensemble method for regression.\n",
        "\n",
        "We’ll train each model using the training data and evaluate their performance on the test set using Mean Absolute Error (MAE) and R-squared (R²) as metrics. These metrics will help us understand both the average error of the predictions and how well the model explains the variance in the target variable.\n",
        "\n",
        "Let’s start with training these models and comparing their performance:"
      ],
      "metadata": {
        "id": "zFePi6DSsYT4"
      }
    },
    {
      "cell_type": "code",
      "source": [
        "from sklearn.linear_model import LinearRegression\n",
        "from sklearn.tree import DecisionTreeRegressor\n",
        "from sklearn.ensemble import RandomForestRegressor, GradientBoostingRegressor\n",
        "from sklearn.metrics import mean_absolute_error, r2_score\n",
        "\n",
        "# initialize the models\n",
        "models = {\n",
        "    \"Linear Regression\": LinearRegression(),\n",
        "    \"Decision Tree\": DecisionTreeRegressor(random_state=42),\n",
        "    \"Random Forest\": RandomForestRegressor(random_state=42),\n",
        "    \"Gradient Boosting\": GradientBoostingRegressor(random_state=42)\n",
        "}\n",
        "\n",
        "# dictionary to hold the evaluation metrics for each model\n",
        "results = {}\n",
        "\n",
        "# train and evaluate each model\n",
        "for name, model in models.items():\n",
        "    # training the model\n",
        "    model.fit(X_train_scaled, y_train)\n",
        "\n",
        "    # making predictions on the test set\n",
        "    predictions = model.predict(X_test_scaled)\n",
        "\n",
        "    # calculating evaluation metrics\n",
        "    mae = mean_absolute_error(y_test, predictions)\n",
        "    r2 = r2_score(y_test, predictions)\n",
        "\n",
        "    # storing the metrics\n",
        "    results[name] = {\"MAE\": mae, \"R²\": r2}\n",
        "\n",
        "results_df = pd.DataFrame(results).T  # convert the results to a DataFrame for better readability\n",
        "print(results_df)"
      ],
      "metadata": {
        "colab": {
          "base_uri": "https://localhost:8080/"
        },
        "id": "0pe75xWCse5k",
        "outputId": "ee0f912e-7eab-4d3d-f462-71a6416c7c6a"
      },
      "execution_count": 5,
      "outputs": [
        {
          "output_type": "stream",
          "name": "stdout",
          "text": [
            "                         MAE        R²\n",
            "Linear Regression   9.748246  0.529615\n",
            "Decision Tree      11.760342  0.204962\n",
            "Random Forest       9.887601  0.509547\n",
            "Gradient Boosting  10.000117  0.476071\n"
          ]
        }
      ]
    },
    {
      "cell_type": "markdown",
      "source": [
        "The performance of each model on the test set, measured by Mean Absolute Error (MAE) and R-squared (R²), is as follows:\n",
        "![image-17.webp](data:image/webp;base64,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)"
      ],
      "metadata": {
        "id": "qO6CHmO8sh_u"
      }
    },
    {
      "cell_type": "markdown",
      "source": [
        "Linear Regression has the lowest MAE (9.75) and the highest R² (0.53), making it the best-performing model among those evaluated. It suggests that, despite its simplicity, Linear Regression is quite effective for this dataset.\n",
        "\n",
        "\n",
        "Decision Tree Regressor shows the highest MAE (11.76) and the lowest R² (0.20), indicating it may be overfitting to the training data and performing poorly on the test data. On the other hand, Random Forest Regressor and Gradient Boosting Regressor have similar MAEs (9.89 and 10.00, respectively) and R² scores (0.51 and 0.48, respectively), performing slightly worse than the Linear Regression model but better than the Decision Tree."
      ],
      "metadata": {
        "id": "WYdumu1ssmW0"
      }
    }
  ]
}